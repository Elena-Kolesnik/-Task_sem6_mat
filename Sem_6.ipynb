{
  "nbformat": 4,
  "nbformat_minor": 0,
  "metadata": {
    "colab": {
      "provenance": []
    },
    "kernelspec": {
      "name": "python3",
      "display_name": "Python 3"
    },
    "language_info": {
      "name": "python"
    }
  },
  "cells": [
    {
      "cell_type": "markdown",
      "source": [
        "**Задача 1.** Известно, что генеральная совокупность распределена нормально со средним квадратическим отклонением, равным 16. Найти доверительный интервал для оценки математического ожидания a с надежностью 0.95, если выборочная средняя M = 80, а объем выборки n = 256."
      ],
      "metadata": {
        "id": "19MT75gB9Ue1"
      }
    },
    {
      "cell_type": "code",
      "source": [
        "import numpy as np\n",
        "import scipy.stats as stats\n",
        "\n",
        "alpha = (1 - 0.95) / 2\n",
        "sigma = 16\n",
        "mu = 80\n",
        "n = 256\n",
        "\n",
        "z = stats.norm.ppf(1 - alpha) # смотрим таблицу для значения  Z\n",
        "mu - z * (sigma / np.sqrt(n)), mu + z * (sigma / np.sqrt(n))"
      ],
      "metadata": {
        "colab": {
          "base_uri": "https://localhost:8080/"
        },
        "id": "ijR5PmKU96GB",
        "outputId": "ba7cbac2-9849-478e-d068-2313963f519b"
      },
      "execution_count": 1,
      "outputs": [
        {
          "output_type": "execute_result",
          "data": {
            "text/plain": [
              "(78.04003601545995, 81.95996398454005)"
            ]
          },
          "metadata": {},
          "execution_count": 1
        }
      ]
    },
    {
      "cell_type": "markdown",
      "source": [
        "**Задача 2.** В результате 10 независимых измерений некоторой величины X, выполненных с одинаковой точностью, получены опытные данные:\n",
        "6.9, 6.1, 6.2, 6.8, 7.5, 6.3, 6.4, 6.9, 6.7, 6.1\n",
        "Предполагая, что результаты измерений подчинены нормальному закону распределения вероятностей, оценить истинное значение величины X при помощи доверительного интервала, покрывающего это значение с доверительной вероятностью 0,95."
      ],
      "metadata": {
        "id": "JhNOTLboG479"
      }
    },
    {
      "cell_type": "code",
      "source": [
        "X = np.array([6.9, 6.1, 6.2, 6.8, 7.5, 6.3, 6.4, 6.9, 6.7, 6.1])\n",
        "M = X.mean()\n",
        "D = X.var(ddof=1)\n",
        "t = stats.t.ppf(0.975, 9)\n",
        "M - t * np.sqrt(D / 10), M + t * np.sqrt(D / 10)"
      ],
      "metadata": {
        "colab": {
          "base_uri": "https://localhost:8080/"
        },
        "id": "WTgJIbBlKt_R",
        "outputId": "b42535fe-c27e-4ff2-908e-37cba7f6595f"
      },
      "execution_count": 2,
      "outputs": [
        {
          "output_type": "execute_result",
          "data": {
            "text/plain": [
              "(6.267515851415713, 6.912484148584288)"
            ]
          },
          "metadata": {},
          "execution_count": 2
        }
      ]
    },
    {
      "cell_type": "markdown",
      "source": [
        "**Задача 3.** Рост дочерей 175, 167, 154, 174, 178, 148, 160, 167, 169, 170\n",
        "Рост матерей  178, 165, 165, 173, 168, 155, 160, 164, 178, 175\n",
        "Используя эти данные построить 95% доверительный интервал для разности среднего роста родителей и детей."
      ],
      "metadata": {
        "id": "VyL37W2dOXrE"
      }
    },
    {
      "cell_type": "code",
      "source": [
        "x = np.array([175, 167, 154, 174, 178, 148, 160, 167, 169, 170])\n",
        "y = np.array([178, 165, 165, 173, 168, 155, 160, 164, 178, 175])\n",
        "delta = x.mean() - y.mean()\n",
        "D = (x.var(ddof=1) + y.var(ddof=1)) / 2\n",
        "SE = np.sqrt(D / len(x) + D / len(y))\n",
        "ns = (len(x) - 1) * 2\n",
        "t = stats.t.ppf(0.975, ns)\n",
        "delta - t * SE, delta + t * SE"
      ],
      "metadata": {
        "id": "7WkO-rHdTk4R"
      },
      "execution_count": null,
      "outputs": []
    },
    {
      "cell_type": "markdown",
      "source": [
        "(-10.068418034506857, 6.268418034506846)"
      ],
      "metadata": {
        "id": "7el-docEUZH-"
      }
    }
  ]
}